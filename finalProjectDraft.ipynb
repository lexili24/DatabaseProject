{
 "cells": [
  {
   "cell_type": "code",
   "execution_count": null,
   "metadata": {
    "ExecuteTime": {
     "end_time": "2019-11-24T17:17:09.182229Z",
     "start_time": "2019-11-24T17:17:07.468051Z"
    }
   },
   "outputs": [],
   "source": [
    "import urllib.request\n",
    "# Download the file from `url` and save it locally under `file_name`:\n",
    "urllib.request.urlretrieve('https://cs.nyu.edu/cs/faculty/shasha/papers/sales1', 'sales1.txt')\n",
    "urllib.request.urlretrieve('https://cs.nyu.edu/cs/faculty/shasha/papers/sales2', 'sales2.txt')"
   ]
  },
  {
   "cell_type": "code",
   "execution_count": 404,
   "metadata": {
    "ExecuteTime": {
     "end_time": "2019-12-02T06:13:34.993037Z",
     "start_time": "2019-12-02T06:13:34.964880Z"
    }
   },
   "outputs": [],
   "source": [
    "import re\n",
    "import os\n",
    "import sys\n",
    "import pandas as pd\n",
    "from IPython.core.interactiveshell import InteractiveShell\n",
    "# Display all columns\n",
    "pd.set_option('display.max_columns', None)\n",
    "# Multiple outputs\n",
    "InteractiveShell.ast_node_interactivity = \"all\"\n",
    "from itertools import product\n",
    "from BTrees.OOBTree import OOBTree"
   ]
  },
  {
   "cell_type": "code",
   "execution_count": 3,
   "metadata": {
    "ExecuteTime": {
     "end_time": "2019-11-30T17:21:34.746183Z",
     "start_time": "2019-11-30T17:21:34.464408Z"
    }
   },
   "outputs": [],
   "source": [
    "# file path\n",
    "p = './sales1.txt'\n",
    "\n",
    "with open(p, 'r') as f:\n",
    "    firstLine = f.readline().strip('\\n').split('|')\n",
    "    col_num = len(firstLine)\n",
    "    row_num = sum(1 for line in f)\n",
    "    dt = [(i, '<i4') for i in firstLine[:(col_num-1)]]\n",
    "    dt.append((firstLine[-1], 'U12'))\n",
    "    arr = np.empty([0,0], dtype=dt)\n",
    "    \n",
    "with open(p, 'r') as f:    \n",
    "    for line in f.readlines()[1:]:\n",
    "        ls_line = line.strip('\\n').split('|')\n",
    "        ls_line[:6] = [int(i) for i in ls_line[:6]]\n",
    "        ls_tp = tuple(i for i in ls_line)\n",
    "        arr = np.append(arr, np.array(ls_tp, dtype=arr.dtype))"
   ]
  },
  {
   "cell_type": "code",
   "execution_count": 4,
   "metadata": {
    "ExecuteTime": {
     "end_time": "2019-11-30T17:21:35.628342Z",
     "start_time": "2019-11-30T17:21:35.537819Z"
    }
   },
   "outputs": [
    {
     "data": {
      "text/plain": [
       "['saleid', 'itemid', 'customerid', 'storeid', 'time', 'qty', 'pricerange']"
      ]
     },
     "execution_count": 4,
     "metadata": {},
     "output_type": "execute_result"
    }
   ],
   "source": [
    "firstLine"
   ]
  },
  {
   "cell_type": "code",
   "execution_count": 87,
   "metadata": {
    "ExecuteTime": {
     "end_time": "2019-11-30T19:04:50.495698Z",
     "start_time": "2019-11-30T19:04:50.466321Z"
    }
   },
   "outputs": [
    {
     "data": {
      "text/plain": [
       "('saleid', 'I', 'C', 'S', 'T', 'Q', 'P')"
      ]
     },
     "execution_count": 87,
     "metadata": {},
     "output_type": "execute_result"
    }
   ],
   "source": [
    "S.dtype.names"
   ]
  },
  {
   "cell_type": "code",
   "execution_count": null,
   "metadata": {},
   "outputs": [],
   "source": []
  },
  {
   "cell_type": "code",
   "execution_count": null,
   "metadata": {},
   "outputs": [],
   "source": []
  },
  {
   "cell_type": "code",
   "execution_count": 3,
   "metadata": {
    "ExecuteTime": {
     "end_time": "2019-12-02T18:51:17.281279Z",
     "start_time": "2019-12-02T18:51:17.276834Z"
    }
   },
   "outputs": [],
   "source": [
    "myclass=myDB()"
   ]
  },
  {
   "cell_type": "code",
   "execution_count": 57,
   "metadata": {
    "ExecuteTime": {
     "end_time": "2019-11-30T18:14:16.696654Z",
     "start_time": "2019-11-30T18:14:16.483067Z"
    }
   },
   "outputs": [],
   "source": [
    "R = myclass.inputfromfile('./sales1.txt')"
   ]
  },
  {
   "cell_type": "code",
   "execution_count": 52,
   "metadata": {
    "ExecuteTime": {
     "end_time": "2019-11-30T18:08:43.318068Z",
     "start_time": "2019-11-30T18:03:39.273772Z"
    }
   },
   "outputs": [],
   "source": [
    "S = myclass.inputfromfile('./sales2.txt')"
   ]
  },
  {
   "cell_type": "code",
   "execution_count": 53,
   "metadata": {
    "ExecuteTime": {
     "end_time": "2019-11-30T18:08:45.416103Z",
     "start_time": "2019-11-30T18:08:45.346304Z"
    }
   },
   "outputs": [],
   "source": [
    "R1 = myclass.select(condition='select(R, (time > 50) or (qty < 30))')"
   ]
  },
  {
   "cell_type": "code",
   "execution_count": null,
   "metadata": {},
   "outputs": [],
   "source": []
  },
  {
   "cell_type": "code",
   "execution_count": 2,
   "metadata": {
    "ExecuteTime": {
     "end_time": "2019-12-02T18:51:05.676101Z",
     "start_time": "2019-12-02T18:51:05.543897Z"
    }
   },
   "outputs": [],
   "source": [
    "class myDB:\n",
    "\n",
    "       \n",
    "    \n",
    "    def inputfromfile(self, condition):\n",
    "        condition = condition.replace(' ','')\n",
    "        condition = re.split('[,\\(\\)\\n\\s]',condition)\n",
    "        unwanted = ['', 'inputfromfile']\n",
    "        condition = [e for e in condition if e not in unwanted] \n",
    "        location = './'+condition[0]+'.txt'\n",
    "#         location = os.path.expanduser(location)\n",
    "        if os.path.exists(location):\n",
    "            p = location\n",
    "            with open(p, 'r') as f:\n",
    "                firstLine = f.readline().strip('\\n').split('|')\n",
    "                col_num = len(firstLine)\n",
    "                row_num = sum(1 for line in f)\n",
    "                dt = [(i, '<i4') for i in firstLine[:(col_num-1)]]\n",
    "                dt.append((firstLine[-1], 'U12'))\n",
    "                arr = np.empty([0,0], dtype=dt)\n",
    "            with open(p, 'r') as f:    \n",
    "                for line in f.readlines()[1:]:\n",
    "                    ls_line = line.strip('\\n').split('|')\n",
    "                    ls_line[:6] = [int(i) for i in ls_line[:6]]\n",
    "                    ls_tp = tuple(i for i in ls_line)\n",
    "                    arr = np.append(arr, np.array(ls_tp, dtype=arr.dtype))\n",
    "            return arr\n",
    "        else:\n",
    "            print('invalid location')\n",
    "\n",
    "        \n",
    "        \n",
    "    def select(self, condition):\n",
    "        if 'or' in condition:\n",
    "            condition = condition.replace(' ','')\n",
    "            condition = re.split('[,\\(\\)\\n\\s]',condition)\n",
    "            unwanted = ['', 'select']\n",
    "            condition = [e for e in condition if e not in unwanted]\n",
    "            table = eval(condition[0])\n",
    "            query = \"selectOrRes = table[\"\n",
    "            for i in range(len(condition)//2):\n",
    "                j = 2*i+1\n",
    "                sub_condition = re.split(r'(\\W+)',condition[j])\n",
    "                if sub_condition[1] != '=':\n",
    "                    query = query +\\\n",
    "                    \"(table['\" +\\\n",
    "                    sub_condition[0] +\\\n",
    "                    \"']\" +\\\n",
    "                    sub_condition[1] +\\\n",
    "                    sub_condition[2] +\\\n",
    "                    \")|\"\n",
    "                else:\n",
    "                    query = query +\\\n",
    "                    \"(table['\" +\\\n",
    "                    sub_condition[0] +\\\n",
    "                    \"']\" +\\\n",
    "                    sub_condition[1]*2 +\\\n",
    "                    sub_condition[2] +\\\n",
    "                    \")|\"\n",
    "            query = query[:-1] + \"]\"\n",
    "            exec(query, globals()) \n",
    "            return selectOrRes\n",
    "        \n",
    "        elif 'and' in condition:\n",
    "            condition = condition.replace(' ','')\n",
    "            condition = re.split('[,\\(\\)\\n\\s]',condition)\n",
    "            unwanted = ['', 'select']\n",
    "            condition = [e for e in condition if e not in unwanted]\n",
    "            table = eval(condition[0])\n",
    "            query = \"selectAndRes = table[\"\n",
    "            for i in range(len(condition)//2):\n",
    "                j = 2*i+1\n",
    "                sub_condition = re.split(r'(\\W+)',condition[j])\n",
    "                if sub_condition[1] != '=':\n",
    "                    query = query +\\\n",
    "                    \"(table['\" +\\\n",
    "                    sub_condition[0] +\\\n",
    "                    \"']\" +\\\n",
    "                    sub_condition[1] +\\\n",
    "                    sub_condition[2] +\\\n",
    "                    \")&\"\n",
    "                else:\n",
    "                    query = query +\\\n",
    "                    \"(table['\" +\\\n",
    "                    sub_condition[0] +\\\n",
    "                    \"']\" +\\\n",
    "                    sub_condition[1]*2 +\\\n",
    "                    sub_condition[2] +\\\n",
    "                    \")&\"\n",
    "            query = query[:-1] + \"]\"\n",
    "            exec(query, globals())\n",
    "            return selectAndRes\n",
    "        \n",
    "        else:\n",
    "            condition = condition.replace(' ','')\n",
    "            condition = re.split('[,\\(\\)\\n\\s]',condition)\n",
    "            unwanted = ['', 'select']\n",
    "            condition = [e for e in condition if e not in unwanted]\n",
    "            table = eval(condition[0])\n",
    "            sub_condition = re.split(r'(\\W+)',condition[1])\n",
    "            if sub_condition[1] != '=':\n",
    "                query = \"selectRes = table[table[\"\n",
    "                query = query + \"'\" +sub_condition[0] + \"'\" + \"]\" + sub_condition[1] + sub_condition[2] + \"]\"\n",
    "            else:\n",
    "                query = \"selectRes = table[table[\"\n",
    "                query = query + \"'\" +sub_condition[0] + \"'\" + \"]\" + sub_condition[1]*2 + sub_condition[2] + \"]\"                \n",
    "            exec(query, globals())\n",
    "            return selectRes            \n",
    "            \n",
    "            \n",
    "    \n",
    "    def project(self, condition):\n",
    "        condition = condition.replace(' ','')\n",
    "        condition = re.split('[,\\(\\)\\n\\s]',condition)\n",
    "        unwanted = ['', 'project']\n",
    "        condition = [e for e in condition if e not in unwanted]\n",
    "        table = eval(condition[0])        \n",
    "        query = \"projectRes = table[[\"\n",
    "        for i in range(len(condition)-1):\n",
    "            j = i+1\n",
    "            query = query +\\\n",
    "            \"'\" +\\\n",
    "            condition[j] +\\\n",
    "            \"',\"\n",
    "        query = query[:-1] + \"]]\"\n",
    "        exec(query)        \n",
    "        return projectRes    \n",
    "    \n",
    "    \n",
    "    \n",
    "    def avg(self, condition):\n",
    "        condition = condition.replace(' ','')\n",
    "        condition = re.split('[,\\(\\)\\n\\s]',condition)\n",
    "        unwanted = ['', 'avg']\n",
    "        condition = [e for e in condition if e not in unwanted]\n",
    "        table = eval(condition[0])\n",
    "        avgRes = np.mean(table[condition[1]])\n",
    "        return avgRes\n",
    "        \n",
    "    \n",
    "    \n",
    "    def sumgroup(self, condition):\n",
    "        condition = condition.replace(' ','')\n",
    "        condition = re.split('[,\\(\\)\\n\\s]',condition)\n",
    "        unwanted = ['', 'sumgroup']\n",
    "        condition = [e for e in condition if e not in unwanted]\n",
    "        table = eval(condition[0])\n",
    "        if len(condition) == 3:\n",
    "            unique = np.unique(table[condition[2]])\n",
    "            allCount = []\n",
    "            for j in range(len(unique)):\n",
    "                count = 0\n",
    "                for i in range(len(table)):\n",
    "                    if table[i][condition[2]] == unique[j]:\n",
    "                        count += table[i][condition[1]]\n",
    "                allCount.append(count)\n",
    "                dt = [(condition[2], table[condition[2]].dtype.str), (condition[1], table[condition[1]].dtype.str)]\n",
    "                res = np.empty([0,0], dtype =dt)\n",
    "                for i in range(len(allCount)):\n",
    "                    toi = tuple((unique[i], allCount[i]))\n",
    "                    res = np.append(res, np.array(toi, dtype =res.dtype))\n",
    "\n",
    "        elif len(condition) == 4:\n",
    "            groupBy = []\n",
    "            for i in range(len(table)):\n",
    "                groupBy.append(tuple((table[i][condition[2]],table[i][condition[3]])))\n",
    "            unique = list(set(groupBy))\n",
    "            allCount = []\n",
    "            for j in range(len(unique)):\n",
    "                count = 0\n",
    "                for i in range(len(table)):\n",
    "                    if tuple((table[i][condition[2]],table[i][condition[3]])) == unique[j]:\n",
    "                        count += table[i][condition[1]]\n",
    "                allCount.append(count)\n",
    "                dt = [('sum', 'i4'), (condition[2], table[condition[2]].dtype.str), (condition[3], table[condition[3]].dtype.str)]\n",
    "                res = np.empty([0,0], dtype =dt)\n",
    "                for i in range(len(allCount)):\n",
    "                    toi = tuple((allCount[i], unique[i][0], unique[i][1]))\n",
    "                    res = np.append(res, np.array(toi, dtype =res.dtype))\n",
    "            res.sort(order=condition[2])\n",
    "        return res\n",
    "        \n",
    "        \n",
    "        \n",
    "    def avggroup(self, condition):\n",
    "        condition = condition.replace(' ','')\n",
    "        condition = re.split('[,\\(\\)\\n\\s]',condition)\n",
    "        unwanted = ['', 'avggroup']\n",
    "        condition = [e for e in condition if e not in unwanted]\n",
    "        table = eval(condition[0])\n",
    "        unique = np.unique(table[condition[2]])\n",
    "        avg = []\n",
    "        for j in range(len(unique)):\n",
    "            count = 0\n",
    "            totalSum = 0\n",
    "            for i in range(len(table)):\n",
    "                if table[i][condition[2]] == unique[j]:\n",
    "                    totalSum += table[i][condition[1]]\n",
    "                    count += 1\n",
    "            avg.append(totalSum/count)\n",
    "            dt = [('avg', 'i4'), (condition[2], table[condition[2]].dtype.str)]\n",
    "            res = np.empty([0,0], dtype =dt)\n",
    "            for i in range(len(avg)):\n",
    "                toi = tuple((avg[i], unique[i]))\n",
    "                res = np.append(res, np.array(toi, dtype =res.dtype))\n",
    "        return res\n",
    "                \n",
    "                \n",
    "    def join(self, condition):\n",
    "        \n",
    "        condition = condition.replace(' ','')\n",
    "        condition = re.split('[,\\(\\)\\n\\s]',condition)\n",
    "        unwanted = ['', 'join']\n",
    "        condition = [e for e in condition if e not in unwanted]\n",
    "        table1 = eval(condition[0])\n",
    "        table2 = eval(condition[1])\n",
    "        \n",
    "        dt1 = table1.dtype.descr\n",
    "        dt2 = table2.dtype.descr\n",
    "        dt3=[]\n",
    "        extra=[]\n",
    "        for i in range(len(dt1)):\n",
    "            for j in range(len(dt2)):\n",
    "                if dt2[j] not in dt3 and dt1[i] != dt2[j]:\n",
    "                    dt3.append(dt2[j])\n",
    "                elif dt2[j] not in dt3 and dt1[i] == dt2[j]:\n",
    "                    extra.append(dt2[j])\n",
    "                    dt3.append(((dt2[j][0]+'2'), dt2[j][1]))\n",
    "        for i in range(len(extra)):\n",
    "            dt3.remove(extra[i])\n",
    "        dt = dt1+dt3\n",
    "            \n",
    "        if 'and' not in condition:\n",
    "            sub_condition = re.split('[.\\=\\!=\\<\\>\\<=\\>=]',condition[2])\n",
    "            res = np.empty([0,0], dtype =dt)\n",
    "            for i in range(len(table1)):\n",
    "                for j in range(len(table2)):\n",
    "                    if table1[i][sub_condition[1]] == table2[j][sub_condition[3]]:\n",
    "                        toi = tuple(table1[i])+ tuple(table2[j])\n",
    "                        res = np.append(res, np.array(toi, dtype =res.dtype))\n",
    "                        \n",
    "        elif len(condition) == 5:\n",
    "\n",
    "            sub_condition0 = re.split(r'(\\W+)', condition[2])\n",
    "            sub_condition0 = [value for value in sub_condition0 if value != '.']\n",
    "            sub_condition1 = re.split(r'(\\W+)', condition[4])\n",
    "            sub_condition1 = [value for value in sub_condition1 if value != '.']\n",
    "\n",
    "            res = np.empty([0,0], dtype =dt)\n",
    "            x = range(len(table1))\n",
    "            y = range(len(table2))\n",
    "            for i, j in product(x,y):\n",
    "                if sub_condition0[2] != '=':\n",
    "                    query = \"ifCondition0 = (table1[i]['\"+sub_condition0[1]+\"']\"+ sub_condition0[2]+\\\n",
    "                     \"table2[j]['\"+sub_condition0[4]+\"'])\"\n",
    "                    exec(query)\n",
    "                else:\n",
    "                    query = \"ifCondition0 = (table1[i]['\"+sub_condition0[1]+\"']\"+ sub_condition0[2]*2+\\\n",
    "                     \"table2[j]['\"+sub_condition0[4]+\"'])\"\n",
    "                    exec(query)\n",
    "                if sub_condition1[2] != '=':\n",
    "                    query = \"ifCondition1 = (table1[i]['\"+sub_condition1[1]+\"']\" + sub_condition1[2] +\\\n",
    "                     \"table2[j]['\" +sub_condition1[4] +\"'])\"\n",
    "                    exec(query)\n",
    "                else:\n",
    "                    query = \"ifCondition1 = (table1[i]['\"+sub_condition1[1]+\"']\" + sub_condition1[2]*2 +\\\n",
    "                     \"table2[j]['\" +sub_condition1[4] +\"'])\"\n",
    "                    exec(query)        \n",
    "                if ifCondition0 and ifCondition1:\n",
    "                    toi = tuple(table1[i])+ tuple(table2[j])\n",
    "                    res = np.append(res, np.array(toi, dtype =res.dtype))\n",
    "         \n",
    "        return res\n",
    "\n",
    "\n",
    "\n",
    "    def sort(self, condition):\n",
    "        condition = condition.replace(' ','')\n",
    "        condition = re.split('[,\\(\\)\\n\\s\\_\\.]',condition)\n",
    "        unwanted = ['', 'sort']\n",
    "        condition = [e for e in condition if e not in unwanted]\n",
    "        table1 = eval(condition[0])\n",
    "        table2 = eval(condition[1])\n",
    "        if len(condition) == 3:\n",
    "            table1.sort(order=condition[2])\n",
    "            return table1\n",
    "        elif len(condition) == 5:\n",
    "            table1.sort(order=condition[4])\n",
    "            table1.sort(order=condition[2])            \n",
    "            return table1\n",
    "        \n",
    "        \n",
    "    \n",
    "    def movavg(self, condition):\n",
    "        condition = condition.replace(' ','')\n",
    "        condition = re.split('[,\\(\\)\\n\\s\\_\\.]',condition)\n",
    "        unwanted = ['', 'movavg']\n",
    "        condition = [e for e in condition if e not in unwanted]\n",
    "        table = eval(condition[0])\n",
    "\n",
    "        target_col = table[condition[2]]\n",
    "        movAvg = []\n",
    "        totalSum = 0\n",
    "        count = eval(condition[3])\n",
    "        for i in range(len(table)):\n",
    "            if i < (count-1):\n",
    "                totalSum += target_col[i]\n",
    "                movAvg.append(totalSum/(i+1))\n",
    "            else:\n",
    "                totalSum = 0\n",
    "                for j in range(count):\n",
    "                    totalSum += target_col[i-j]\n",
    "                movAvg.append(totalSum/count)\n",
    "        \n",
    "        dt = [('time', 'i4'), (condition[2], table[condition[2]].dtype.str), ('mov_avg', 'f4')]\n",
    "        res = np.empty([0,0], dtype=dt)\n",
    "        for i in range(len(table)):\n",
    "            toi = tuple((table[i]['time'], table[i][condition[2]], movAvg[i]))\n",
    "            res = np.append(res, np.array(toi, dtype =res.dtype))\n",
    "        return res\n",
    "    \n",
    "    \n",
    "    \n",
    "    def movsum(self, condition):\n",
    "        condition = condition.replace(' ','')\n",
    "        condition = re.split('[,\\(\\)\\n\\s\\_\\.]',condition)\n",
    "        unwanted = ['', 'movsum']\n",
    "        condition = [e for e in condition if e not in unwanted]\n",
    "        table = eval(condition[0])\n",
    "        target_col = table[condition[2]]\n",
    "        movSum = []\n",
    "        totalSum = 0\n",
    "        count = eval(condition[3])\n",
    "        for i in range(len(table)):\n",
    "            if i < (count-1):\n",
    "                totalSum += target_col[i]\n",
    "                movSum.append(totalSum)\n",
    "            else:\n",
    "                totalSum = 0\n",
    "                for j in range(count):\n",
    "                    totalSum += target_col[i-j]\n",
    "                movSum.append(totalSum)\n",
    "\n",
    "        dt = [('time', 'i4'), (condition[2], table[condition[2]].dtype.str), ('mov_sum', 'i4')]\n",
    "        res = np.empty([0,0], dtype=dt)\n",
    "        for i in range(len(table)):\n",
    "            toi = tuple((table[i]['time'], table[i][condition[2]], movSum[i]))\n",
    "            res = np.append(res, np.array(toi, dtype =res.dtype))\n",
    "        return res\n",
    "    \n",
    "    \n",
    "    \n",
    "    def Btree(self, condition):\n",
    "        condition = condition.replace(' ','')\n",
    "        condition = re.split('[,\\(\\)\\n\\s]',condition)\n",
    "        table = eval(condition[0])\n",
    "        btree = OOBTree()\n",
    "        for i, value in enumerate(table[condition[1]]):\n",
    "            if value in btree:\n",
    "                btree.update({value: btree[value] + [i]})\n",
    "            else:\n",
    "                btree.update({value: [i]})\n",
    "        return btree\n",
    "    \n",
    "    \n",
    "    \n",
    "    def selectByIndex(self, condition):\n",
    "        condition = condition.replace(' ','')\n",
    "        condition = re.split('[,\\(\\)\\n\\s]',condition)\n",
    "        unwanted = ['', 'select']\n",
    "        condition = [e for e in condition if e not in unwanted]\n",
    "        sub_condition = re.split(r'(\\W+)',condition[1])\n",
    "        if sub_condition[1] == '=':\n",
    "            bTreeCond = condition[0]+', '+sub_condition[0]\n",
    "            selectedIndex = myclass.Btree(bTreeCond)[eval(sub_condition[2])]\n",
    "            table = eval(condition[0])\n",
    "            return table[selectedIndex]\n",
    "        else:\n",
    "            print(\"Invalid condition\")\n",
    "        \n",
    "    \n",
    "    \n",
    "    def Hash(self, condition):\n",
    "        condition = condition.replace(' ','')\n",
    "        condition = re.split('[,\\(\\)\\n\\s]',condition)\n",
    "        table = eval(condition[0])        \n",
    "        dic = {}\n",
    "        for i, value in enumerate(table[condition[1]]):\n",
    "            if value in dic:\n",
    "                dic[value] += [i]\n",
    "            else:\n",
    "                dic[value] = [i]\n",
    "        return dic\n",
    "    \n",
    "    \n",
    "    \n",
    "    def selectByHash(self, condition):\n",
    "        condition = condition.replace(' ','')\n",
    "        condition = re.split('[,\\(\\)\\n\\s]',condition)\n",
    "        unwanted = ['', 'select']\n",
    "        condition = [e for e in condition if e not in unwanted]\n",
    "        sub_condition = re.split(r'(\\W+)',condition[1])\n",
    "        if sub_condition[1] == '=':\n",
    "            hashCond = condition[0]+', '+sub_condition[0]\n",
    "            selectedIndex = myclass.Hash(hashCond)[eval(sub_condition[2])]\n",
    "            table = eval(condition[0])\n",
    "            return table[selectedIndex]\n",
    "        else:\n",
    "            print(\"Invalid condition\")\n",
    "        \n",
    "        \n",
    "    \n",
    "    \n",
    "    def concat(self, condition):\n",
    "        condition = condition.replace(' ','')\n",
    "        condition = re.split('[,\\(\\)\\n\\s]',condition)\n",
    "        unwanted = ['', 'concat']\n",
    "        condition = [e for e in condition if e not in unwanted]\n",
    "        t1 = eval(condition[0])\n",
    "        t2 = eval(condition[1])        \n",
    "        return np.unique(np.concatenate((t1, t2), axis=0),0)\n",
    "    \n",
    "    \n",
    "    \n",
    "    \n",
    "    def outputtofile(self, condition):\n",
    "        condition = condition.replace(' ','')\n",
    "        condition = re.split('[,\\(\\)\\n\\s]',condition)\n",
    "        unwanted = ['', 'outputtofile']\n",
    "        condition = [e for e in condition if e not in unwanted]\n",
    "        filename = condition[0] + '.txt'\n",
    "        table=eval(condition[0])\n",
    "        header = \"|\".join(str(x) for x in table.dtype.names)\n",
    "        descr = table.dtype.descr\n",
    "        fmt = []\n",
    "        descr = table.dtype.descr\n",
    "        for i in range(len(descr)):\n",
    "            if descr[i][1] == '<i4':\n",
    "                fmt.append('%i')\n",
    "            elif descr[i][1] == '<U12':\n",
    "                fmt.append('%s')\n",
    "        np.savetxt(filename, table,  fmt=fmt, delimiter='|', header=header, comments='')                \n",
    "        "
   ]
  },
  {
   "cell_type": "code",
   "execution_count": 627,
   "metadata": {
    "ExecuteTime": {
     "end_time": "2019-12-02T18:35:08.319165Z",
     "start_time": "2019-12-02T18:35:08.312278Z"
    }
   },
   "outputs": [],
   "source": [
    "commands = []\n",
    "with open(\"commands.txt\", \"r\") as f:\n",
    "    for line in f:\n",
    "        line = line.rstrip().split(\"//\")[0]\n",
    "        if line:\n",
    "            commands.append(line)\n"
   ]
  },
  {
   "cell_type": "code",
   "execution_count": null,
   "metadata": {},
   "outputs": [],
   "source": []
  },
  {
   "cell_type": "code",
   "execution_count": null,
   "metadata": {},
   "outputs": [],
   "source": []
  },
  {
   "cell_type": "code",
   "execution_count": null,
   "metadata": {},
   "outputs": [],
   "source": []
  },
  {
   "cell_type": "code",
   "execution_count": null,
   "metadata": {},
   "outputs": [],
   "source": []
  },
  {
   "cell_type": "code",
   "execution_count": 628,
   "metadata": {
    "ExecuteTime": {
     "end_time": "2019-12-02T18:35:09.071748Z",
     "start_time": "2019-12-02T18:35:09.062666Z"
    }
   },
   "outputs": [
    {
     "data": {
      "text/plain": [
       "['R := inputfromfile(sales1) ',\n",
       " 'R1 := select(R, (time > 50) or (qty < 30))',\n",
       " 'R2 := project(R1, saleid, qty, pricerange) ']"
      ]
     },
     "execution_count": 628,
     "metadata": {},
     "output_type": "execute_result"
    }
   ],
   "source": [
    "commands"
   ]
  },
  {
   "cell_type": "code",
   "execution_count": 647,
   "metadata": {
    "ExecuteTime": {
     "end_time": "2019-12-02T18:38:17.905511Z",
     "start_time": "2019-12-02T18:38:17.895779Z"
    }
   },
   "outputs": [
    {
     "name": "stdout",
     "output_type": "stream",
     "text": [
      "invalid location\n"
     ]
    }
   ],
   "source": [
    "for i in commands:\n",
    "    tablename, condition = i.split(\":=\")\n",
    "    tablename = tablename.strip()\n",
    "    operation = re.split('[,\\(\\)\\n\\s]',condition.replace(' ',''))[0]\n",
    "    if operation == 'inputfromfile':\n",
    "        res = myclass.inputfromfile(condition)\n",
    "        exec(tablename + '=' + 'res')\n",
    "    break"
   ]
  },
  {
   "cell_type": "code",
   "execution_count": 4,
   "metadata": {
    "ExecuteTime": {
     "end_time": "2019-12-02T18:51:51.345319Z",
     "start_time": "2019-12-02T18:51:51.339993Z"
    }
   },
   "outputs": [],
   "source": [
    "myclass=myDB()"
   ]
  },
  {
   "cell_type": "code",
   "execution_count": 649,
   "metadata": {
    "ExecuteTime": {
     "end_time": "2019-12-02T18:38:20.541800Z",
     "start_time": "2019-12-02T18:38:20.533251Z"
    }
   },
   "outputs": [
    {
     "name": "stdout",
     "output_type": "stream",
     "text": [
      "invalid location\n"
     ]
    }
   ],
   "source": [
    "myclass.inputfromfile(condition)"
   ]
  },
  {
   "cell_type": "code",
   "execution_count": 622,
   "metadata": {
    "ExecuteTime": {
     "end_time": "2019-12-02T18:32:31.984697Z",
     "start_time": "2019-12-02T18:32:31.974983Z"
    }
   },
   "outputs": [
    {
     "name": "stdout",
     "output_type": "stream",
     "text": [
      "invalid location\n"
     ]
    }
   ],
   "source": [
    "myclass.inputfromfile(' inputfromfile(sales1) ')"
   ]
  },
  {
   "cell_type": "code",
   "execution_count": null,
   "metadata": {},
   "outputs": [],
   "source": []
  },
  {
   "cell_type": "code",
   "execution_count": null,
   "metadata": {},
   "outputs": [],
   "source": [
    "if __name__ == \"__main__\":\n",
    "    # read command file\n",
    "    commands = []\n",
    "    with open(\"commands.txt\", \"r\") as f:\n",
    "        for line in f:\n",
    "            line = line.rstrip().split(\"//\")[0]\n",
    "            if line:\n",
    "                commands.append(line)\n"
   ]
  },
  {
   "cell_type": "code",
   "execution_count": null,
   "metadata": {},
   "outputs": [],
   "source": []
  },
  {
   "cell_type": "code",
   "execution_count": null,
   "metadata": {},
   "outputs": [],
   "source": []
  },
  {
   "cell_type": "code",
   "execution_count": null,
   "metadata": {},
   "outputs": [],
   "source": []
  }
 ],
 "metadata": {
  "kernelspec": {
   "display_name": "Python 3",
   "language": "python",
   "name": "python3"
  },
  "language_info": {
   "codemirror_mode": {
    "name": "ipython",
    "version": 3
   },
   "file_extension": ".py",
   "mimetype": "text/x-python",
   "name": "python",
   "nbconvert_exporter": "python",
   "pygments_lexer": "ipython3",
   "version": "3.6.7"
  },
  "toc": {
   "base_numbering": 1,
   "nav_menu": {},
   "number_sections": true,
   "sideBar": true,
   "skip_h1_title": false,
   "title_cell": "Table of Contents",
   "title_sidebar": "Contents",
   "toc_cell": false,
   "toc_position": {},
   "toc_section_display": true,
   "toc_window_display": false
  },
  "varInspector": {
   "cols": {
    "lenName": 16,
    "lenType": 16,
    "lenVar": 40
   },
   "kernels_config": {
    "python": {
     "delete_cmd_postfix": "",
     "delete_cmd_prefix": "del ",
     "library": "var_list.py",
     "varRefreshCmd": "print(var_dic_list())"
    },
    "r": {
     "delete_cmd_postfix": ") ",
     "delete_cmd_prefix": "rm(",
     "library": "var_list.r",
     "varRefreshCmd": "cat(var_dic_list()) "
    }
   },
   "types_to_exclude": [
    "module",
    "function",
    "builtin_function_or_method",
    "instance",
    "_Feature"
   ],
   "window_display": false
  }
 },
 "nbformat": 4,
 "nbformat_minor": 2
}
